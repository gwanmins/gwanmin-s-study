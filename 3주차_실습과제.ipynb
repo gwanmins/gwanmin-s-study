{
  "nbformat": 4,
  "nbformat_minor": 0,
  "metadata": {
    "colab": {
      "name": "3주차 실습과제",
      "provenance": [],
      "collapsed_sections": [],
      "authorship_tag": "ABX9TyM6/iARBsRLY4e8ZngCSD/V",
      "include_colab_link": true
    },
    "kernelspec": {
      "name": "python3",
      "display_name": "Python 3"
    },
    "language_info": {
      "name": "python"
    }
  },
  "cells": [
    {
      "cell_type": "markdown",
      "metadata": {
        "id": "view-in-github",
        "colab_type": "text"
      },
      "source": [
        "<a href=\"https://colab.research.google.com/github/gwanmins/gwanmin-s-study/blob/main/3%EC%A3%BC%EC%B0%A8_%EC%8B%A4%EC%8A%B5%EA%B3%BC%EC%A0%9C.ipynb\" target=\"_parent\"><img src=\"https://colab.research.google.com/assets/colab-badge.svg\" alt=\"Open In Colab\"/></a>"
      ]
    },
    {
      "cell_type": "markdown",
      "source": [
        "1"
      ],
      "metadata": {
        "id": "YEB5cxPCYs0z"
      }
    },
    {
      "cell_type": "code",
      "execution_count": null,
      "metadata": {
        "id": "CkrEAlBaYpzE",
        "colab": {
          "base_uri": "https://localhost:8080/"
        },
        "outputId": "f187ffba-201d-408d-d73a-237d23fb47a8"
      },
      "outputs": [
        {
          "output_type": "stream",
          "name": "stdout",
          "text": [
            "좋아하는 과일은? :사과\n",
            "정답입니다.\n"
          ]
        }
      ],
      "source": [
        "fruit=[\"사과\", \"포도\", \"홍시\"]\n",
        "favorite=input(\"좋아하는 과일은? :\")\n",
        "if favorite in fruit:\n",
        "  print(\"정답입니다.\")\n",
        "else:\n",
        "  print(\"오답입니다.\")"
      ]
    },
    {
      "cell_type": "markdown",
      "source": [
        "2"
      ],
      "metadata": {
        "id": "msUp8uxEM732"
      }
    },
    {
      "cell_type": "code",
      "source": [
        "score=int(input(\"Score를 입력하세요 : \"))\n",
        "if 81<=score<=100 :\n",
        "  print(\"grade is A\")\n",
        "elif 61<=score<=80 :\n",
        "  print(\"grade is B\")\n",
        "elif 41<=score<=60 :\n",
        "  print(\"grade is C\")\n",
        "elif 21<=score<=40 :\n",
        "  print(\"grade is D\")\n",
        "else:\n",
        "  print(\"grade is E\")\n",
        "\n"
      ],
      "metadata": {
        "id": "n51z4ZeIM8Ml",
        "colab": {
          "base_uri": "https://localhost:8080/"
        },
        "outputId": "ba113faa-662b-4438-bc98-123c74f55328"
      },
      "execution_count": null,
      "outputs": [
        {
          "output_type": "stream",
          "name": "stdout",
          "text": [
            "Score를 입력하세요 : 83\n",
            "grade is A\n"
          ]
        }
      ]
    },
    {
      "cell_type": "markdown",
      "source": [
        "3"
      ],
      "metadata": {
        "id": "TuGgOgXuOSt-"
      }
    },
    {
      "cell_type": "code",
      "source": [
        "n=input(\"주민등록번호를 입력하세요 : \")\n",
        "first_cal = int(n[0])*2+int(n[1])*3+int(n[2])*4+int(n[3])*5+int(n[4])*6+int(n[5])*7+int(n[7])*8+int(n[8])*9+int(n[9])*2+int(n[10])*3+int(n[11])*4+int(n[12])*5\n",
        "second_cal=(11-first_cal)%10\n",
        "if second_cal == int(n[-1]):\n",
        "  print(\"유효한 주민등록번호입니다.\")\n",
        "else :\n",
        "  print(\"유효하지 않은 주민등록번호입니다.\")"
      ],
      "metadata": {
        "colab": {
          "base_uri": "https://localhost:8080/"
        },
        "id": "GhjxbLpsOTQ8",
        "outputId": "50d6d344-6436-487c-e209-8ea68a794c5c"
      },
      "execution_count": null,
      "outputs": [
        {
          "output_type": "stream",
          "name": "stdout",
          "text": [
            "주민등록번호를 입력하세요 : 821010-1635210\n",
            "유효하지 않은 주민등록번호입니다.\n"
          ]
        }
      ]
    },
    {
      "cell_type": "markdown",
      "source": [
        "4"
      ],
      "metadata": {
        "id": "ds6XJVT9c_Nm"
      }
    },
    {
      "cell_type": "code",
      "source": [
        "n=int(input(\"상품 개수는?\"))\n",
        "if n < 10 :\n",
        "  price=n*100\n",
        "elif 10<=n<30:\n",
        "  price=n*95\n",
        "elif 30<=n<100:\n",
        "  price=n*90\n",
        "else :\n",
        "  price=n*85\n",
        "print(\"상품의 가격은 %d 입니다.\" % price)"
      ],
      "metadata": {
        "colab": {
          "base_uri": "https://localhost:8080/"
        },
        "id": "gFDZPvRHdAgn",
        "outputId": "bb569abb-32b7-4b81-ef7d-5e8b28a491e5"
      },
      "execution_count": null,
      "outputs": [
        {
          "output_type": "stream",
          "name": "stdout",
          "text": [
            "상품 개수는?500\n",
            "상품의 가격은 42500 입니다.\n"
          ]
        }
      ]
    },
    {
      "cell_type": "markdown",
      "source": [
        "5"
      ],
      "metadata": {
        "id": "nbrrj1imeqNf"
      }
    },
    {
      "cell_type": "code",
      "source": [
        "def what_year(year) :\n",
        "  if year%4 == 0 :\n",
        "    if year%100 != 0 :\n",
        "       print(year,\"년은 윤년이다.\") \n",
        "    elif year%400 == 0 :\n",
        "       print(year,\"년은 윤년이다.\")  \n",
        "    else :\n",
        "       print(year,\"년은 윤년이 아니다.\")\n",
        "  else :\n",
        "    print(year,\"년은 윤년이 아니다.\")    \n",
        "\n",
        "year=int(input(\"몇년도 인가요?: \"))\n",
        "what_year(year)"
      ],
      "metadata": {
        "colab": {
          "base_uri": "https://localhost:8080/"
        },
        "id": "d48nQoB4el0O",
        "outputId": "c50fcad1-819f-4f32-9e21-3597a1dea175"
      },
      "execution_count": null,
      "outputs": [
        {
          "output_type": "stream",
          "name": "stdout",
          "text": [
            "몇년도 인가요?: 1900\n",
            "1900 년은 윤년이 아니다.\n"
          ]
        }
      ]
    },
    {
      "cell_type": "markdown",
      "source": [
        "6"
      ],
      "metadata": {
        "id": "Va4j1eMshs1x"
      }
    },
    {
      "cell_type": "code",
      "source": [
        "def monlen(year,month) :\n",
        "  import calendar\n",
        "  a=calendar.monthrange(year, month)\n",
        "  month_length=a[1]\n",
        "  print(\"{0}년 {1}월은 {2}일까지 있습니다.\".format(year, month, month_length))\n",
        "\n",
        "year, month=map(int, input(\"몇 년 몇 월? :\").split())\n",
        "\n",
        "monlen(year, month)"
      ],
      "metadata": {
        "colab": {
          "base_uri": "https://localhost:8080/"
        },
        "id": "08HP6onJhtWv",
        "outputId": "1268c0f1-1c6c-4d26-cdce-1e30e90c304a"
      },
      "execution_count": null,
      "outputs": [
        {
          "output_type": "stream",
          "name": "stdout",
          "text": [
            "몇 년 몇 월? :1999 9\n",
            "1999년 9월은 30일까지 있습니다.\n"
          ]
        }
      ]
    },
    {
      "cell_type": "markdown",
      "source": [
        "7"
      ],
      "metadata": {
        "id": "Ir7KOynqmDAK"
      }
    },
    {
      "cell_type": "code",
      "source": [
        "k=0\n",
        "for i in range(1001) :\n",
        "  if i%3 == 0:\n",
        "    k=k+i\n",
        "print(k) \n",
        "\n"
      ],
      "metadata": {
        "colab": {
          "base_uri": "https://localhost:8080/"
        },
        "id": "ndAXQSnnmEAU",
        "outputId": "cefd2a6b-7301-49c4-dcda-1b65e19af517"
      },
      "execution_count": null,
      "outputs": [
        {
          "output_type": "stream",
          "name": "stdout",
          "text": [
            "166833\n"
          ]
        }
      ]
    },
    {
      "cell_type": "markdown",
      "source": [
        "8"
      ],
      "metadata": {
        "id": "SEfQUDUIotM7"
      }
    },
    {
      "cell_type": "code",
      "source": [
        "A=[20,55,67,82,45,33,90,87,100,25]\n",
        "k=0\n",
        "for i in A :\n",
        "  if i >= 50 :\n",
        "    k=k+i\n",
        "print(k)    "
      ],
      "metadata": {
        "colab": {
          "base_uri": "https://localhost:8080/"
        },
        "id": "7nul5uirotsy",
        "outputId": "6bd3b1c1-52b5-4699-b947-afc62c1f9de0"
      },
      "execution_count": null,
      "outputs": [
        {
          "output_type": "stream",
          "name": "stdout",
          "text": [
            "481\n"
          ]
        }
      ]
    },
    {
      "cell_type": "markdown",
      "source": [
        "9"
      ],
      "metadata": {
        "id": "tnV0kHqTpfbr"
      }
    },
    {
      "cell_type": "code",
      "source": [
        "i=1\n",
        "while i<5:\n",
        "  print(\"*\"*i)\n",
        "  i+=1"
      ],
      "metadata": {
        "id": "XVxFmAAjpgvj",
        "colab": {
          "base_uri": "https://localhost:8080/"
        },
        "outputId": "7d6c1824-bcaf-4458-952f-8c21628e2647"
      },
      "execution_count": null,
      "outputs": [
        {
          "output_type": "stream",
          "name": "stdout",
          "text": [
            "*\n",
            "**\n",
            "***\n",
            "****\n"
          ]
        }
      ]
    },
    {
      "cell_type": "markdown",
      "source": [
        "10"
      ],
      "metadata": {
        "id": "qgJNua3Ap_Mw"
      }
    },
    {
      "cell_type": "code",
      "source": [
        "a=100\n",
        "k=0\n",
        "while a <10000 :\n",
        "  k=k+a\n",
        "  a=a+5\n",
        "print(k)"
      ],
      "metadata": {
        "colab": {
          "base_uri": "https://localhost:8080/"
        },
        "id": "sIYuZxE5p_x5",
        "outputId": "e970c53c-1f38-4a5c-aafa-a856b7a9ba59"
      },
      "execution_count": null,
      "outputs": [
        {
          "output_type": "stream",
          "name": "stdout",
          "text": [
            "9994050\n"
          ]
        }
      ]
    },
    {
      "cell_type": "markdown",
      "source": [
        "11"
      ],
      "metadata": {
        "id": "XZbNj0tqrJqQ"
      }
    },
    {
      "cell_type": "code",
      "source": [
        "for i in range(1, 101):\n",
        "  print(i)"
      ],
      "metadata": {
        "colab": {
          "base_uri": "https://localhost:8080/"
        },
        "id": "1qyttOekrKD4",
        "outputId": "9288650a-a8e6-43d9-898f-a4dafec056b2"
      },
      "execution_count": null,
      "outputs": [
        {
          "output_type": "stream",
          "name": "stdout",
          "text": [
            "1\n",
            "2\n",
            "3\n",
            "4\n",
            "5\n",
            "6\n",
            "7\n",
            "8\n",
            "9\n",
            "10\n",
            "11\n",
            "12\n",
            "13\n",
            "14\n",
            "15\n",
            "16\n",
            "17\n",
            "18\n",
            "19\n",
            "20\n",
            "21\n",
            "22\n",
            "23\n",
            "24\n",
            "25\n",
            "26\n",
            "27\n",
            "28\n",
            "29\n",
            "30\n",
            "31\n",
            "32\n",
            "33\n",
            "34\n",
            "35\n",
            "36\n",
            "37\n",
            "38\n",
            "39\n",
            "40\n",
            "41\n",
            "42\n",
            "43\n",
            "44\n",
            "45\n",
            "46\n",
            "47\n",
            "48\n",
            "49\n",
            "50\n",
            "51\n",
            "52\n",
            "53\n",
            "54\n",
            "55\n",
            "56\n",
            "57\n",
            "58\n",
            "59\n",
            "60\n",
            "61\n",
            "62\n",
            "63\n",
            "64\n",
            "65\n",
            "66\n",
            "67\n",
            "68\n",
            "69\n",
            "70\n",
            "71\n",
            "72\n",
            "73\n",
            "74\n",
            "75\n",
            "76\n",
            "77\n",
            "78\n",
            "79\n",
            "80\n",
            "81\n",
            "82\n",
            "83\n",
            "84\n",
            "85\n",
            "86\n",
            "87\n",
            "88\n",
            "89\n",
            "90\n",
            "91\n",
            "92\n",
            "93\n",
            "94\n",
            "95\n",
            "96\n",
            "97\n",
            "98\n",
            "99\n",
            "100\n"
          ]
        }
      ]
    },
    {
      "cell_type": "markdown",
      "source": [
        "12"
      ],
      "metadata": {
        "id": "I_WAuMP_rymp"
      }
    },
    {
      "cell_type": "code",
      "source": [
        "A=[70,60,55,75,95,90,80,80,85,100]\n",
        "k=0\n",
        "for i in A :\n",
        "  k=k+i\n",
        "average=k/10\n",
        "print(\"A학급의 평균은 %d입니다.\"% average)"
      ],
      "metadata": {
        "colab": {
          "base_uri": "https://localhost:8080/"
        },
        "id": "ig3v2F4ar0JB",
        "outputId": "f37db3d1-081b-46c5-d652-7d0a7e7219ef"
      },
      "execution_count": null,
      "outputs": [
        {
          "output_type": "stream",
          "name": "stdout",
          "text": [
            "A학급의 평균은 79입니다.\n"
          ]
        }
      ]
    },
    {
      "cell_type": "markdown",
      "source": [
        "13"
      ],
      "metadata": {
        "id": "BVqjZWURsOlP"
      }
    },
    {
      "cell_type": "code",
      "source": [
        "numbers=[]\n",
        "for i in range(1,101):\n",
        "  if \"3\" in str(i) :\n",
        "    numbers.append(\"*\")\n",
        "  elif \"6\" in str(i) :\n",
        "    numbers.append(\"*\")\n",
        "  elif \"9\" in str(i) :\n",
        "    numbers.append(\"*\")\n",
        "  else:\n",
        "    numbers.append(i)\n",
        "print(numbers)"
      ],
      "metadata": {
        "colab": {
          "base_uri": "https://localhost:8080/"
        },
        "id": "YtoaLCiysRSa",
        "outputId": "f652da78-6d6b-48e3-fd65-ffe21c38cd65"
      },
      "execution_count": null,
      "outputs": [
        {
          "output_type": "stream",
          "name": "stdout",
          "text": [
            "[1, 2, '*', 4, 5, '*', 7, 8, '*', 10, 11, 12, '*', 14, 15, '*', 17, 18, '*', 20, 21, 22, '*', 24, 25, '*', 27, 28, '*', '*', '*', '*', '*', '*', '*', '*', '*', '*', '*', 40, 41, 42, '*', 44, 45, '*', 47, 48, '*', 50, 51, 52, '*', 54, 55, '*', 57, 58, '*', '*', '*', '*', '*', '*', '*', '*', '*', '*', '*', 70, 71, 72, '*', 74, 75, '*', 77, 78, '*', 80, 81, 82, '*', 84, 85, '*', 87, 88, '*', '*', '*', '*', '*', '*', '*', '*', '*', '*', '*', 100]\n"
          ]
        }
      ]
    },
    {
      "cell_type": "markdown",
      "source": [
        "14"
      ],
      "metadata": {
        "id": "etswgt8ItXGf"
      }
    },
    {
      "cell_type": "code",
      "source": [
        "a=[]\n",
        "for i in range(1,101) :\n",
        "  if i%3==0 or i%4==0 :\n",
        "    a.append(i)\n",
        "print(a)"
      ],
      "metadata": {
        "colab": {
          "base_uri": "https://localhost:8080/"
        },
        "id": "TC9LSrkztXyP",
        "outputId": "1967be4f-c621-4e8b-cb6f-79d99db119dd"
      },
      "execution_count": null,
      "outputs": [
        {
          "output_type": "stream",
          "name": "stdout",
          "text": [
            "[3, 4, 6, 8, 9, 12, 15, 16, 18, 20, 21, 24, 27, 28, 30, 32, 33, 36, 39, 40, 42, 44, 45, 48, 51, 52, 54, 56, 57, 60, 63, 64, 66, 68, 69, 72, 75, 76, 78, 80, 81, 84, 87, 88, 90, 92, 93, 96, 99, 100]\n"
          ]
        }
      ]
    },
    {
      "cell_type": "markdown",
      "source": [
        "15"
      ],
      "metadata": {
        "id": "ctrHRmcjt5V9"
      }
    },
    {
      "cell_type": "code",
      "source": [
        "def max_num(list_some) :\n",
        "  k=0 \n",
        "  for i in list_some :\n",
        "    if i>k :\n",
        "      k=i\n",
        "    else :\n",
        "      continue\n",
        "  print(k)\n",
        "\n",
        "a=[1,2,3,4,5,6,7,100]\n",
        "max_num(a)\n",
        "\n"
      ],
      "metadata": {
        "colab": {
          "base_uri": "https://localhost:8080/"
        },
        "id": "8vtHwFhSt6Im",
        "outputId": "798d0f54-5058-4d21-849e-33306ab8e79e"
      },
      "execution_count": null,
      "outputs": [
        {
          "output_type": "stream",
          "name": "stdout",
          "text": [
            "100\n"
          ]
        }
      ]
    },
    {
      "cell_type": "markdown",
      "source": [
        "16"
      ],
      "metadata": {
        "id": "MavfwDPxvh2l"
      }
    },
    {
      "cell_type": "code",
      "source": [
        "n=int(input(\"숫자를 입력하시오 : \"))\n",
        "for i in range(2, n):\n",
        "  if n%i==0:\n",
        "    n=False\n",
        "    print(n)\n",
        "    break\n",
        "else :\n",
        "  n=True\n",
        "  print(n)"
      ],
      "metadata": {
        "id": "slMnrf_eviWZ",
        "colab": {
          "base_uri": "https://localhost:8080/"
        },
        "outputId": "4a98cd53-44bd-4f13-8199-a3530c326a1c"
      },
      "execution_count": null,
      "outputs": [
        {
          "output_type": "stream",
          "name": "stdout",
          "text": [
            "숫자를 입력하시오 : 7\n",
            "True\n"
          ]
        }
      ]
    },
    {
      "cell_type": "markdown",
      "source": [
        "16-2"
      ],
      "metadata": {
        "id": "PyiZssl-zjI-"
      }
    },
    {
      "cell_type": "code",
      "source": [
        "num=1\n",
        "sum=0\n",
        "\n",
        "while num<100:\n",
        "  num+=1\n",
        "  for i in range(2,num):\n",
        "    if num%i == 0:\n",
        "      break\n",
        "    else :\n",
        "      continue\n",
        "\n",
        "  else :\n",
        "    sum=sum+num\n",
        "print(\"모든 소수의 합은\",sum,\"입니다.\")"
      ],
      "metadata": {
        "colab": {
          "base_uri": "https://localhost:8080/"
        },
        "id": "mUe43fltzhb4",
        "outputId": "797e958d-2736-449a-eb14-337151f2218d"
      },
      "execution_count": null,
      "outputs": [
        {
          "output_type": "stream",
          "name": "stdout",
          "text": [
            "모든 소수의 합은 1060 입니다.\n"
          ]
        }
      ]
    }
  ]
}