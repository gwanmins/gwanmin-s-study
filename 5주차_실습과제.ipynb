{
  "nbformat": 4,
  "nbformat_minor": 0,
  "metadata": {
    "colab": {
      "name": "5주차 실습과제.ipynb",
      "provenance": [],
      "collapsed_sections": [],
      "authorship_tag": "ABX9TyMHNEPwIFtdGdR6ntNoAwwT",
      "include_colab_link": true
    },
    "kernelspec": {
      "name": "python3",
      "display_name": "Python 3"
    },
    "language_info": {
      "name": "python"
    }
  },
  "cells": [
    {
      "cell_type": "markdown",
      "metadata": {
        "id": "view-in-github",
        "colab_type": "text"
      },
      "source": [
        "<a href=\"https://colab.research.google.com/github/gwanmins/gwanmin-s-study/blob/main/5%EC%A3%BC%EC%B0%A8_%EC%8B%A4%EC%8A%B5%EA%B3%BC%EC%A0%9C.ipynb\" target=\"_parent\"><img src=\"https://colab.research.google.com/assets/colab-badge.svg\" alt=\"Open In Colab\"/></a>"
      ]
    },
    {
      "cell_type": "markdown",
      "source": [
        "1"
      ],
      "metadata": {
        "id": "4OQY5fwfwv0T"
      }
    },
    {
      "cell_type": "code",
      "source": [
        "class Coordinate:\n",
        "  def __init__(self,x=0,y=0):\n",
        "    self.x=x\n",
        "    self.y=y\n",
        "\n",
        "a=Coordinate()\n",
        "print(a.x,a.y)"
      ],
      "metadata": {
        "id": "RTmBmZ_-wweA",
        "colab": {
          "base_uri": "https://localhost:8080/"
        },
        "outputId": "97835ffe-e920-441d-a5e9-feb61e474881"
      },
      "execution_count": 65,
      "outputs": [
        {
          "output_type": "stream",
          "name": "stdout",
          "text": [
            "0 0\n"
          ]
        }
      ]
    },
    {
      "cell_type": "markdown",
      "source": [
        "2"
      ],
      "metadata": {
        "id": "HTd4fEGM0zVv"
      }
    },
    {
      "cell_type": "code",
      "source": [
        "point_1=Coordinate()\n",
        "point_1.x=-1\n",
        "point_1.y=2\n",
        "point_2=Coordinate()\n",
        "point_2.x=2\n",
        "point_2.y=3\n",
        "\n",
        "print(point_1.x, point_1.y)\n",
        "print(point_2.x, point_2.y)"
      ],
      "metadata": {
        "id": "OAtPY6Lp0zr4",
        "colab": {
          "base_uri": "https://localhost:8080/"
        },
        "outputId": "f5f00106-094a-476a-d27a-9d67a3dc938e"
      },
      "execution_count": 66,
      "outputs": [
        {
          "output_type": "stream",
          "name": "stdout",
          "text": [
            "-1 2\n",
            "2 3\n"
          ]
        }
      ]
    },
    {
      "cell_type": "markdown",
      "source": [
        "3"
      ],
      "metadata": {
        "id": "FZXm2BvD3Ovj"
      }
    },
    {
      "cell_type": "code",
      "source": [
        "import math\n",
        "def square(x):\n",
        "  return x*x\n",
        "\n",
        "def distance(point_a, point_b):\n",
        "  return math.sqrt(square(point_a.x-point_b.x)+square(point_a.y-point_b.y))\n",
        "\n",
        "distance(point_1,point_2)\n"
      ],
      "metadata": {
        "id": "clWwLHzM3QnS",
        "colab": {
          "base_uri": "https://localhost:8080/"
        },
        "outputId": "2b8bf873-7cd7-4dae-fea1-9ab00ec31485"
      },
      "execution_count": 67,
      "outputs": [
        {
          "output_type": "execute_result",
          "data": {
            "text/plain": [
              "3.1622776601683795"
            ]
          },
          "metadata": {},
          "execution_count": 67
        }
      ]
    },
    {
      "cell_type": "markdown",
      "source": [
        "4"
      ],
      "metadata": {
        "id": "gwnYuvbJn6UW"
      }
    },
    {
      "cell_type": "code",
      "source": [
        "class Coordinate:\n",
        "  def __init__(self,x=0,y=0):\n",
        "    self.x=x\n",
        "    self.y=y\n",
        "  def distance(self,point_a, point_b):\n",
        "    return math.sqrt(square(point_a.x-point_b.x)+square(point_a.y-point_b.y))\n",
        "\n",
        "point_1=Coordinate(-1,2)\n",
        "point_2=Coordinate(2,3)   \n",
        "\n",
        "point_1.distance(point_1,point_2)\n"
      ],
      "metadata": {
        "colab": {
          "base_uri": "https://localhost:8080/"
        },
        "id": "Cye3QfELn6xT",
        "outputId": "f899ef6e-eb82-4f23-e4bd-8d07837fa15a"
      },
      "execution_count": 68,
      "outputs": [
        {
          "output_type": "execute_result",
          "data": {
            "text/plain": [
              "3.1622776601683795"
            ]
          },
          "metadata": {},
          "execution_count": 68
        }
      ]
    },
    {
      "cell_type": "markdown",
      "source": [
        "5"
      ],
      "metadata": {
        "id": "F_4qrZ1xq-EG"
      }
    },
    {
      "cell_type": "code",
      "source": [
        "class Coordinate:\n",
        "  def __init__(self,x=0,y=0):\n",
        "    self.x=x\n",
        "    self.y=y\n",
        "\n",
        "instance1=Coordinate(3,4)\n",
        "instance2=Coordinate(10,7)\n",
        "print(instance1.x,instance1.y)\n",
        "print(instance2.x,instance2.y)\n",
        "instance3=Coordinate()\n",
        "print(instance3.x,instance3.y)"
      ],
      "metadata": {
        "colab": {
          "base_uri": "https://localhost:8080/"
        },
        "id": "e8Cr2_7DrBKV",
        "outputId": "808ad7a6-5d84-443d-c483-b1a9514bcb35"
      },
      "execution_count": 69,
      "outputs": [
        {
          "output_type": "stream",
          "name": "stdout",
          "text": [
            "3 4\n",
            "10 7\n",
            "0 0\n"
          ]
        }
      ]
    },
    {
      "cell_type": "markdown",
      "source": [
        "6"
      ],
      "metadata": {
        "id": "H0n_w1cd6Bbh"
      }
    },
    {
      "cell_type": "code",
      "source": [
        "class FourCal():\n",
        "  def setdata(self,x,y):\n",
        "    self.x=x\n",
        "    self.y=y\n",
        "  def add(self):\n",
        "    a=self.x+self.y\n",
        "    return a\n",
        "  def doub(self):\n",
        "    d=self.x*self.y\n",
        "    return d\n",
        "  def minus(self):\n",
        "    m=self.x-self.y\n",
        "    return m\n",
        "  def div(self):\n",
        "    d=self.x/self.y\n",
        "    return d\n",
        "\n",
        "a=FourCal()\n",
        "a.setdata(4,2)\n",
        "print(a.add())    \n",
        "print(a.div())\n",
        "print(a.doub())\n",
        "print(a.minus())"
      ],
      "metadata": {
        "colab": {
          "base_uri": "https://localhost:8080/"
        },
        "id": "WawqJrLE6B_4",
        "outputId": "823f55b5-80df-44f1-d551-871a38c69b50"
      },
      "execution_count": 70,
      "outputs": [
        {
          "output_type": "stream",
          "name": "stdout",
          "text": [
            "6\n",
            "2.0\n",
            "8\n",
            "2\n"
          ]
        }
      ]
    },
    {
      "cell_type": "markdown",
      "source": [
        "7"
      ],
      "metadata": {
        "id": "aSYWovYhskkg"
      }
    },
    {
      "cell_type": "code",
      "source": [
        "class square:\n",
        "  def __init__(self,a,b,h):\n",
        "    self.a=a\n",
        "    self.b=b\n",
        "    self.h=h\n",
        "  def volume(self): \n",
        "    return self.a*self.b*self.h\n",
        "  def surface(self):\n",
        "    return ((self.a*self.b*2)+(self.a*self.h*2)+(self.b*self.h*2))\n",
        "\n",
        "instance1=square(3,4,5)\n",
        "print(instance1.volume(), instance1.surface())\n",
        "\n",
        "instance1=square(10,100,1000)\n",
        "print(instance1.volume(), instance1.surface())\n",
        "\n"
      ],
      "metadata": {
        "colab": {
          "base_uri": "https://localhost:8080/"
        },
        "id": "oSZVCWuesmO7",
        "outputId": "e34641de-588f-41c5-b36f-a9e0805f76b7"
      },
      "execution_count": 71,
      "outputs": [
        {
          "output_type": "stream",
          "name": "stdout",
          "text": [
            "60 94\n",
            "1000000 222000\n"
          ]
        }
      ]
    },
    {
      "cell_type": "markdown",
      "source": [
        "8"
      ],
      "metadata": {
        "id": "1GvJZZ5Tx3oz"
      }
    },
    {
      "cell_type": "code",
      "source": [
        "class shape:\n",
        "  def __init__(self,sides):\n",
        "    self.sides=sides\n",
        "  def describe(self):\n",
        "    print(\"이 도형은 %d개의 변을 갖고 있습니다.\"% self.sides)\n",
        "\n",
        "class Triangle(shape):\n",
        "  def __init__(self,sides=3):\n",
        "    self.sides=3\n",
        "\n",
        "class Rectangle(shape):\n",
        "  def __init__(self,sides=4):\n",
        "    self.sides=4\n",
        "\n",
        "shapes=[Triangle(),Rectangle()]\n",
        "for shape in shapes:\n",
        "  shape.describe()"
      ],
      "metadata": {
        "id": "8RNat3mFx4J7",
        "colab": {
          "base_uri": "https://localhost:8080/"
        },
        "outputId": "1567c2b0-eda2-4e08-9e9e-581722b3d3ce"
      },
      "execution_count": 72,
      "outputs": [
        {
          "output_type": "stream",
          "name": "stdout",
          "text": [
            "이 도형은 3개의 변을 갖고 있습니다.\n",
            "이 도형은 4개의 변을 갖고 있습니다.\n"
          ]
        }
      ]
    },
    {
      "cell_type": "markdown",
      "source": [
        "9"
      ],
      "metadata": {
        "id": "57jccvAmq5N6"
      }
    },
    {
      "cell_type": "code",
      "source": [
        "import math\n",
        "class Coordinate:\n",
        "  def __init__(self,x=0,y=0):\n",
        "    self.x=x\n",
        "    self.y=y\n",
        "def square(x):\n",
        "  return x*x\n",
        "def distance(point_a, point_b):\n",
        "  return math.sqrt(square(point_a.x-point_b.x)+square(point_a.y-point_b.y))\n",
        "\n",
        "class shape:\n",
        "  def describe(self):\n",
        "    if self.sides==3:\n",
        "      print(\"이 도형은 %d개의 변을 갖고 있습니다.\"% self.sides)\n",
        "    else:\n",
        "       print(\"이 도형은 %d개의 변을 갖고 있습니다.\"% self.sides)\n",
        "\n",
        "class Triangle(shape):\n",
        "  sides=3\n",
        "  def __init__(self,a,b,c):\n",
        "    self.a=a\n",
        "    self.b=b\n",
        "    self.c=c\n",
        "  def circumference(self):\n",
        "    return distance(self.a,self.b)+distance(self.a,self.c)+distance(self.c,self.b)\n",
        "\n",
        "class Rectangle(shape):\n",
        "  sides=4\n",
        "  def __init__(self,a,b,c,d):\n",
        "    self.a=a\n",
        "    self.b=b\n",
        "    self.c=c\n",
        "    self.d=d\n",
        "  def circumference(self):\n",
        "    return distance(self.a,self.b)+distance(self.b,self.c)+distance(self.c,self.d)+distance(self.d,self.a)\n",
        "\n",
        "shapes=[Triangle(Coordinate(0,0),Coordinate(3,0),Coordinate(3,4)),\n",
        "        Rectangle(Coordinate(2,2),Coordinate(6,2),Coordinate(6,6),Coordinate(2,6))]\n",
        "\n",
        "for shape in shapes:\n",
        "  shape.describe()\n",
        "  print(\"돌레\", shape.circumference())\n",
        "\n",
        "\n",
        "\n"
      ],
      "metadata": {
        "colab": {
          "base_uri": "https://localhost:8080/"
        },
        "id": "4ETyh0Ayq5_0",
        "outputId": "0321718e-f014-406d-e8a8-5c5ce809eaec"
      },
      "execution_count": 73,
      "outputs": [
        {
          "output_type": "stream",
          "name": "stdout",
          "text": [
            "이 도형은 3개의 변을 갖고 있습니다.\n",
            "돌레 12.0\n",
            "이 도형은 4개의 변을 갖고 있습니다.\n",
            "돌레 16.0\n"
          ]
        }
      ]
    },
    {
      "cell_type": "markdown",
      "source": [
        "10"
      ],
      "metadata": {
        "id": "9cIVjqII_LPv"
      }
    },
    {
      "cell_type": "code",
      "source": [
        "class Calculator():\n",
        "  def __init__(self):\n",
        "    self.value=0\n",
        "  def add(self,val):\n",
        "    self.value+=val\n",
        "class UpgradeCalculator(Calculator):\n",
        "  def minus(self,val):\n",
        "    self.value-=val\n",
        "\n",
        "cal=UpgradeCalculator()\n",
        "cal.add(10)\n",
        "cal.minus(7)\n",
        "cal.value"
      ],
      "metadata": {
        "colab": {
          "base_uri": "https://localhost:8080/"
        },
        "id": "8IqLeUOl_LxA",
        "outputId": "ce09461d-ceee-4b76-d08e-83f204d688cd"
      },
      "execution_count": 74,
      "outputs": [
        {
          "output_type": "execute_result",
          "data": {
            "text/plain": [
              "3"
            ]
          },
          "metadata": {},
          "execution_count": 74
        }
      ]
    },
    {
      "cell_type": "markdown",
      "source": [
        "11"
      ],
      "metadata": {
        "id": "53wwkjZ_AVxW"
      }
    },
    {
      "cell_type": "code",
      "source": [
        "class MaxLimitCalculator(Calculator):\n",
        "  def __init__(self):\n",
        "    self.value=0\n",
        "  def add(self,val):\n",
        "    self.value+=val\n",
        "    if self.value>100:\n",
        "      self.value=100\n",
        "\n",
        "cal=MaxLimitCalculator() \n",
        "cal.add(50)\n",
        "cal.add(140)\n",
        "cal.value\n"
      ],
      "metadata": {
        "colab": {
          "base_uri": "https://localhost:8080/"
        },
        "id": "1VgwZvAqAWZ5",
        "outputId": "83301d04-dcc0-42dd-97fb-90100bb3e2d0"
      },
      "execution_count": 75,
      "outputs": [
        {
          "output_type": "execute_result",
          "data": {
            "text/plain": [
              "100"
            ]
          },
          "metadata": {},
          "execution_count": 75
        }
      ]
    },
    {
      "cell_type": "markdown",
      "source": [
        "12"
      ],
      "metadata": {
        "id": "0-uwd3aiHFud"
      }
    },
    {
      "cell_type": "code",
      "source": [
        "class Car:\n",
        "  def __init__(self,speed=0,speed_max=160):\n",
        "    self.speed=speed\n",
        "    self.speed_max=speed_max\n",
        "  def speed_up(self):\n",
        "    self.speed+=20\n",
        "    if self.speed>=160:\n",
        "      self.speed=160\n",
        "    print(\"현재속도는\",self.speed)\n",
        "  def speed_down(self):\n",
        "    self.speed-=20\n",
        "    if self.speed<=0:\n",
        "      self.speed=0\n",
        "    print(\"현재속도는\",self.speed)\n",
        "\n",
        "a=Car()\n",
        "a.speed_up()\n",
        "a.speed_up()\n",
        "a.speed_up()\n",
        "a.speed_down()"
      ],
      "metadata": {
        "colab": {
          "base_uri": "https://localhost:8080/"
        },
        "id": "4hPEoHaMHGKe",
        "outputId": "e4d33793-cdb2-49a6-cb07-666983d2b929"
      },
      "execution_count": 76,
      "outputs": [
        {
          "output_type": "stream",
          "name": "stdout",
          "text": [
            "현재속도는 20\n",
            "현재속도는 40\n",
            "현재속도는 60\n",
            "현재속도는 40\n"
          ]
        }
      ]
    },
    {
      "cell_type": "markdown",
      "source": [
        "13"
      ],
      "metadata": {
        "id": "qvOYT_YyQGO-"
      }
    },
    {
      "cell_type": "code",
      "source": [
        "class SportCar(Car):\n",
        "  def __init__(self,speed=0,speed_max=200):\n",
        "    self.speed=speed\n",
        "    self.speed_max=speed_max\n",
        "  def speed_up(self):\n",
        "    self.speed+=45\n",
        "    if self.speed>=200:\n",
        "      self.speed=200\n",
        "    print(\"현재속도는\",self.speed)\n",
        "  def speed_down(self):\n",
        "    self.speed-=45\n",
        "    if self.speed<=0:\n",
        "      self.speed=0\n",
        "    print(\"현재속도는\",self.speed)\n",
        "\n",
        "class Truck(Car):\n",
        "  def __init__(self,speed=0,speed_max=100):\n",
        "    self.speed=speed\n",
        "    self.speed_max=speed_max\n",
        "  def speed_up(self):\n",
        "    self.speed+=15\n",
        "    if self.speed>=100:\n",
        "      self.speed=15\n",
        "    print(\"현재속도는\",self.speed)\n",
        "  def speed_down(self):\n",
        "    self.speed-=15\n",
        "    if self.speed<=0:\n",
        "      self.speed=0\n",
        "    print(\"현재속도는\",self.speed)\n",
        "\n",
        "sc=SportCar()\n",
        "t=Truck()\n",
        "\n",
        "sc.speed_up()\n",
        "sc.speed_up()\n",
        "sc.speed_up()\n",
        "sc.speed_up()\n",
        "sc.speed_up()\n",
        "sc.speed_up()\n",
        "sc.speed_up()\n",
        "sc.speed_up()\n",
        "\n",
        "\n",
        "t.speed_up()\n",
        "t.speed_up()\n",
        "t.speed_up()\n",
        "t.speed_up()\n",
        "t.speed_down()\n",
        "t.speed_down()\n",
        "t.speed_down()\n",
        "t.speed_down()\n",
        "t.speed_down()\n"
      ],
      "metadata": {
        "colab": {
          "base_uri": "https://localhost:8080/"
        },
        "id": "yv3_MlVcQG9B",
        "outputId": "0df4f9a2-4c7c-44f1-fb85-da84839efdfa"
      },
      "execution_count": 77,
      "outputs": [
        {
          "output_type": "stream",
          "name": "stdout",
          "text": [
            "현재속도는 45\n",
            "현재속도는 90\n",
            "현재속도는 135\n",
            "현재속도는 180\n",
            "현재속도는 200\n",
            "현재속도는 200\n",
            "현재속도는 200\n",
            "현재속도는 200\n",
            "현재속도는 15\n",
            "현재속도는 30\n",
            "현재속도는 45\n",
            "현재속도는 60\n",
            "현재속도는 45\n",
            "현재속도는 30\n",
            "현재속도는 15\n",
            "현재속도는 0\n",
            "현재속도는 0\n"
          ]
        }
      ]
    },
    {
      "cell_type": "markdown",
      "source": [
        "14"
      ],
      "metadata": {
        "id": "SiGhxTR2Q2dH"
      }
    },
    {
      "cell_type": "code",
      "source": [
        "class Dice:\n",
        "  def __init__(self, sides):\n",
        "    self.__sides=sides\n",
        "    import random\n",
        "    side1=random.randint(1,sides)\n",
        "    self.__side1=side1\n",
        "  def top(self):\n",
        "    print(\"나온면은\",self.__side1)\n",
        "  def roll(self):\n",
        "    import random\n",
        "    side2=random.randint(1,self.__sides)\n",
        "    print(\"나온면은\",side2)\n",
        "  \n",
        "a=Dice(4)\n",
        "print('사면체 주사위 테스트')\n",
        "a.top()\n",
        "a.roll()\n",
        "a.roll()\n",
        "\n",
        "b=Dice(100)\n",
        "print('백면체 주사위 테스트')\n",
        "b.top()\n",
        "b.roll()\n",
        "b.roll()\n"
      ],
      "metadata": {
        "colab": {
          "base_uri": "https://localhost:8080/"
        },
        "id": "hrRznwyOQ3Aa",
        "outputId": "dd321daf-7c7e-492a-e11e-5389b7163d93"
      },
      "execution_count": 78,
      "outputs": [
        {
          "output_type": "stream",
          "name": "stdout",
          "text": [
            "사면체 주사위 테스트\n",
            "나온면은 1\n",
            "나온면은 1\n",
            "나온면은 4\n",
            "백면체 주사위 테스트\n",
            "나온면은 6\n",
            "나온면은 34\n",
            "나온면은 2\n"
          ]
        }
      ]
    },
    {
      "cell_type": "markdown",
      "source": [
        "15"
      ],
      "metadata": {
        "id": "6swfhVE8WBxU"
      }
    },
    {
      "cell_type": "code",
      "source": [
        "class Food:\n",
        "  def __init__(self,taste,calorie):\n",
        "    self._taste=taste\n",
        "    self._calorie=calorie\n",
        "\n",
        "  def __string__(self):\n",
        "    return str(self.taste)+'만큼맛있고.'+str(self.calorie)+'만큼 든든한 음식'\n",
        "\n",
        "  def __add__(self,other):\n",
        "    taste=self._taste+other._taste\n",
        "    calorie=self._calorie+other._calorie\n",
        "    return Food(taste,calorie)\n",
        "\n",
        "  def __ge__(self,other):\n",
        "    self._taste>= other._taste\n",
        "    return self._taste>=other._taste\n",
        "\n",
        "  def __le__(self,other):\n",
        "    self._taste<= other._taste\n",
        "    return self._taste<=other._taste\n",
        "\n",
        "  def __gt__(self,other):\n",
        "    if self._taste== other._taste:\n",
        "      return self._calorie>=other._calorie\n",
        "\n",
        "  def __lt__(self,other):\n",
        "    if self._taste== other._taste:\n",
        "      return self._calorie>other._calorie\n",
        "    return self._taste<other._taste\n",
        "\n",
        "  def __eq__(self,other):\n",
        "    self._taste== other._taste\n",
        "    return self._taste==other._taste\n",
        "        \n",
        "strawberry=Food(9,32)\n",
        "potato=Food(6,66)\n",
        "sweet_potato=Food(12,131)\n",
        "pizza=Food(13,266)\n",
        "print('딸기<감자:', strawberry<potato)\n",
        "print('감자+감자<고구마:', potato+potato< sweet_potato)\n",
        "print('피자>=딸기:', pizza>=strawberry)\n",
        "print('피자>=피자:', pizza>=pizza)\n",
        "print('감자+딸기<피자:', potato+strawberry<pizza)\n",
        "print('딸기==딸기:', strawberry==strawberry)\n"
      ],
      "metadata": {
        "id": "eWV1RZhdWSvL",
        "colab": {
          "base_uri": "https://localhost:8080/"
        },
        "outputId": "e6eab27f-4f42-4ea9-b0a4-9acddaac34e8"
      },
      "execution_count": 79,
      "outputs": [
        {
          "output_type": "stream",
          "name": "stdout",
          "text": [
            "딸기<감자: False\n",
            "감자+감자<고구마: True\n",
            "피자>=딸기: True\n",
            "피자>=피자: True\n",
            "감자+딸기<피자: False\n",
            "딸기==딸기: True\n"
          ]
        }
      ]
    }
  ]
}