{
  "nbformat": 4,
  "nbformat_minor": 0,
  "metadata": {
    "colab": {
      "name": "카카오 비밀지도.ipynb",
      "provenance": [],
      "collapsed_sections": [],
      "authorship_tag": "ABX9TyOjFO8VZmT5EVjlnnS7lpXe",
      "include_colab_link": true
    },
    "kernelspec": {
      "name": "python3",
      "display_name": "Python 3"
    },
    "language_info": {
      "name": "python"
    }
  },
  "cells": [
    {
      "cell_type": "markdown",
      "metadata": {
        "id": "view-in-github",
        "colab_type": "text"
      },
      "source": [
        "<a href=\"https://colab.research.google.com/github/gwanmins/gwanmin-s-study/blob/main/%EC%B9%B4%EC%B9%B4%EC%98%A4_%EB%B9%84%EB%B0%80%EC%A7%80%EB%8F%84.ipynb\" target=\"_parent\"><img src=\"https://colab.research.google.com/assets/colab-badge.svg\" alt=\"Open In Colab\"/></a>"
      ]
    },
    {
      "cell_type": "markdown",
      "source": [
        "완성본=바로 밑에 거"
      ],
      "metadata": {
        "id": "XDQ9aTJqfeWS"
      }
    },
    {
      "cell_type": "code",
      "execution_count": 43,
      "metadata": {
        "id": "MKrokfhmp6HN",
        "colab": {
          "base_uri": "https://localhost:8080/"
        },
        "outputId": "98d4b904-cd11-4924-b0da-685311000c4d"
      },
      "outputs": [
        {
          "output_type": "stream",
          "name": "stdout",
          "text": [
            "n 입력 : 5\n",
            "array1 입력9 20 28 18 11\n",
            "array2 입력30 1 21 17 28\n",
            "['#####', '# # #', '### #', '#  ##', '#####']\n"
          ]
        }
      ],
      "source": [
        "n=int(input(\"n 입력 : \"))\n",
        "array1=[]\n",
        "array2=[]\n",
        "x=input(\"array1 입력\").split()\n",
        "y=input(\"array2 입력\").split()\n",
        "array1.extend(x)\n",
        "array2.extend(y)\n",
        "\n",
        "a1=__builtins__.list(map(int, array1))\n",
        "b1=__builtins__.list(map(int, array2))\n",
        "\n",
        "binarray1=[]\n",
        "for i in a1 :\n",
        "  d=bin(i)[2:].zfill(n)\n",
        "  binarray1.append(d)\n",
        "\n",
        "binarray2=[]\n",
        "for i in b1:\n",
        "  d=bin(i)[2:].zfill(n)\n",
        "  binarray2.append(d)\n",
        "\n",
        "final_list=[]\n",
        "k_list=[]\n",
        "for i in range(n):\n",
        "  for k in range(n):\n",
        "    if (binarray1[i][k]== \"1\") or (binarray2[i][k] == \"1\"):\n",
        "      k_list.append(\"#\")\n",
        "    else:\n",
        "      k_list.append(\" \")\n",
        "  d=\"\".join(k_list)\n",
        "  final_list.append(d)\n",
        "  k_list.clear()\n",
        "    \n",
        "print(final_list)"
      ]
    },
    {
      "cell_type": "markdown",
      "source": [
        "이진수 + 이진수 = (십진수+십진수)의 이진수 ??"
      ],
      "metadata": {
        "id": "84EpQv1W2h__"
      }
    },
    {
      "cell_type": "code",
      "source": [
        "print(list)"
      ],
      "metadata": {
        "colab": {
          "base_uri": "https://localhost:8080/"
        },
        "id": "t7QY7RfCiZFG",
        "outputId": "f646e149-3a52-4ab2-b556-5b8de6537c71"
      },
      "execution_count": null,
      "outputs": [
        {
          "output_type": "stream",
          "name": "stdout",
          "text": [
            "['1', '2', '3', '4', '5']\n"
          ]
        }
      ]
    },
    {
      "cell_type": "code",
      "source": [
        "import numpy as np\n",
        "n=int(input(\"n 입력 : \"))\n",
        "array1=[]\n",
        "array2=[]\n",
        "x=input(\"array1 입력\").split()\n",
        "y=input(\"array2 입력\").split()\n",
        "array1.extend(x)\n",
        "array2.extend(y)\n",
        "\n",
        "a1=list(map(int, array1))\n",
        "b1=list(map(int, array2))\n",
        "\n",
        "a2=np.array(a1)\n",
        "b2=np.array(b1)\n",
        "c=a2+b2\n",
        "\n",
        "binarray=[]\n",
        "for i in c:\n",
        "  d=bin(i)[2:].zfill(n)\n",
        "  binarray.append(d)\n",
        "\n",
        "final_list=[]\n",
        "k_list=[]\n",
        "for i in binarray:\n",
        "  for k in i :\n",
        "    if k == \"0\":\n",
        "      k_list.append(\" \")\n",
        "    else :\n",
        "      k_list.append(\"#\")\n",
        "    d=\"\".join(k_list)\n",
        "  final_list.append(d)\n",
        "  k_list.clear()\n",
        "    \n",
        "print(final_list)\n"
      ],
      "metadata": {
        "id": "DyVNoonEriMG"
      },
      "execution_count": null,
      "outputs": []
    },
    {
      "cell_type": "code",
      "source": [
        "binarray=[\"10011\",\"10101\",\"11101\",\"10011\",\"100111\"]\n",
        "\n",
        "final_list=[]\n",
        "k_list=[]\n",
        "for i in binarray:\n",
        "  for k in i :\n",
        "    if k == \"0\":\n",
        "      k_list.append(\" \")\n",
        "    else :\n",
        "      k_list.append(\"#\")\n",
        "    d=\"\".join(k_list)\n",
        "  final_list.append(d)\n",
        "  k_list.clear()\n",
        "    \n",
        "print(final_list)"
      ],
      "metadata": {
        "id": "4em5XcPuAB8B"
      },
      "execution_count": null,
      "outputs": []
    },
    {
      "cell_type": "code",
      "source": [
        "\n",
        "binnary1=[\"10101\", \"11111\", \"00011\"]\n",
        "binnary2=[\"00110\", \"10101\", \"11001\"]\n",
        "\n",
        "final_list=[]\n",
        "k_list=[]\n",
        "for i in range(5):\n",
        "  for k in range(5):\n",
        "    if binarray1[i][k] or binarray2[i][k] == \"1\":\n",
        "      k_list.append(\"#\")\n",
        "    else:\n",
        "      k_list.append(\" \")\n",
        "  d=\"\".join(k_list)\n",
        "  final_list.append(d)\n",
        "  k_list.clear()\n",
        "    \n",
        "print(final_list)\n"
      ],
      "metadata": {
        "id": "QPlTEaWpLn0H"
      },
      "execution_count": null,
      "outputs": []
    }
  ]
}