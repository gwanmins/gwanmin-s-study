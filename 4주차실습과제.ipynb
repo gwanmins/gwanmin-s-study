{
  "nbformat": 4,
  "nbformat_minor": 0,
  "metadata": {
    "colab": {
      "name": "4주차실습과제.ipynb",
      "provenance": [],
      "collapsed_sections": [],
      "authorship_tag": "ABX9TyMJfDyl3O9G1QyrSslpcnT8",
      "include_colab_link": true
    },
    "kernelspec": {
      "name": "python3",
      "display_name": "Python 3"
    },
    "language_info": {
      "name": "python"
    }
  },
  "cells": [
    {
      "cell_type": "markdown",
      "metadata": {
        "id": "view-in-github",
        "colab_type": "text"
      },
      "source": [
        "<a href=\"https://colab.research.google.com/github/gwanmins/gwanmin-s-study/blob/main/4%EC%A3%BC%EC%B0%A8%EC%8B%A4%EC%8A%B5%EA%B3%BC%EC%A0%9C.ipynb\" target=\"_parent\"><img src=\"https://colab.research.google.com/assets/colab-badge.svg\" alt=\"Open In Colab\"/></a>"
      ]
    },
    {
      "cell_type": "markdown",
      "source": [
        "4-1"
      ],
      "metadata": {
        "id": "RLnH-JyNInU4"
      }
    },
    {
      "cell_type": "code",
      "source": [
        "def is_odd(number) :\n",
        "  if number%2 == 0:\n",
        "    print(\"짝수입니다.\")\n",
        "  else :\n",
        "    print(\"홀수입니다.\")\n",
        "\n",
        "is_odd(2022)    "
      ],
      "metadata": {
        "colab": {
          "base_uri": "https://localhost:8080/"
        },
        "id": "8jxu0AY2IpHd",
        "outputId": "e1b7687d-b6ca-472e-830e-d2ee1a4e730f"
      },
      "execution_count": null,
      "outputs": [
        {
          "output_type": "stream",
          "name": "stdout",
          "text": [
            "짝수입니다.\n"
          ]
        }
      ]
    },
    {
      "cell_type": "markdown",
      "source": [
        "4-2"
      ],
      "metadata": {
        "id": "qTBYYFILJQEl"
      }
    },
    {
      "cell_type": "code",
      "execution_count": null,
      "metadata": {
        "colab": {
          "base_uri": "https://localhost:8080/"
        },
        "id": "wl3pn2RnkTsI",
        "outputId": "864d0b9d-8ae6-4274-d0cf-1e5e3856efb5"
      },
      "outputs": [
        {
          "output_type": "execute_result",
          "data": {
            "text/plain": [
              "3.0"
            ]
          },
          "metadata": {},
          "execution_count": 18
        }
      ],
      "source": [
        "def average(*args):\n",
        "  sum=0\n",
        "  for i in args:\n",
        "    sum+=i\n",
        "  return sum/len(args)\n",
        "average(1,2,3,4,5)"
      ]
    },
    {
      "cell_type": "markdown",
      "source": [
        "4-3"
      ],
      "metadata": {
        "id": "95qWjK6eNzjr"
      }
    },
    {
      "cell_type": "code",
      "source": [
        "def func(a,b):\n",
        "  c=a//b\n",
        "  d=a%b\n",
        "  return c, d\n",
        "\n",
        "func(17,5)"
      ],
      "metadata": {
        "colab": {
          "base_uri": "https://localhost:8080/"
        },
        "id": "bxxq1DxhN0ma",
        "outputId": "a75cea02-5803-4739-963d-e0b78987e747"
      },
      "execution_count": null,
      "outputs": [
        {
          "output_type": "execute_result",
          "data": {
            "text/plain": [
              "(3, 2)"
            ]
          },
          "metadata": {},
          "execution_count": 20
        }
      ]
    },
    {
      "cell_type": "markdown",
      "source": [
        "4-4"
      ],
      "metadata": {
        "id": "OP6LkjqQOXC5"
      }
    },
    {
      "cell_type": "code",
      "source": [
        "def is_sum(*args):\n",
        "  k=0\n",
        "  for i in args:\n",
        "    k+=i\n",
        "  return print(\"합은 %d입니다.\" %k)\n",
        "\n",
        "is_sum(1,2,3,4,5,6)"
      ],
      "metadata": {
        "colab": {
          "base_uri": "https://localhost:8080/"
        },
        "id": "SRlmKfvNOXuJ",
        "outputId": "8d30c012-e5ce-4bd3-a1f0-a53a417b206c"
      },
      "execution_count": null,
      "outputs": [
        {
          "output_type": "stream",
          "name": "stdout",
          "text": [
            "합은 21입니다.\n"
          ]
        }
      ]
    },
    {
      "cell_type": "markdown",
      "source": [
        "4-5"
      ],
      "metadata": {
        "id": "VpbHNu-qOvUk"
      }
    },
    {
      "cell_type": "code",
      "source": [
        "def is_gugu(n):\n",
        "  for i in range(1,10):\n",
        "    print(n*i, end=' ')\n",
        "\n",
        "is_gugu(2)\n"
      ],
      "metadata": {
        "colab": {
          "base_uri": "https://localhost:8080/"
        },
        "id": "v6D1gUzuOwDH",
        "outputId": "9fbced36-db38-40ba-f106-01d73ff4c158"
      },
      "execution_count": null,
      "outputs": [
        {
          "output_type": "stream",
          "name": "stdout",
          "text": [
            "2 4 6 8 10 12 14 16 18 "
          ]
        }
      ]
    },
    {
      "cell_type": "markdown",
      "source": [
        "4-6"
      ],
      "metadata": {
        "id": "INQG3JWHPdO2"
      }
    },
    {
      "cell_type": "code",
      "source": [
        "def fib(n : int) -> int :\n",
        "  num_list=[0,1,1]\n",
        "  for i in range(1,n-1) :\n",
        "     a=num_list[i]+num_list[i+1]\n",
        "     num_list.append(a)\n",
        "  return num_list[n]\n",
        "fib(20)    "
      ],
      "metadata": {
        "id": "AsmTCxY4PeD9",
        "colab": {
          "base_uri": "https://localhost:8080/"
        },
        "outputId": "f9bd7d7d-8aee-4463-a9c6-a90dbdf410d5"
      },
      "execution_count": 22,
      "outputs": [
        {
          "output_type": "execute_result",
          "data": {
            "text/plain": [
              "6765"
            ]
          },
          "metadata": {},
          "execution_count": 22
        }
      ]
    },
    {
      "cell_type": "markdown",
      "source": [
        "4-7"
      ],
      "metadata": {
        "id": "WeH9JNRAP2WP"
      }
    },
    {
      "cell_type": "code",
      "source": [
        "def Grading(n) :\n",
        "  if n>=90:\n",
        "    grade=\"A\"\n",
        "  elif 80<=n<90:\n",
        "    grade=\"B\"\n",
        "  elif 70<=n<80:\n",
        "    grade=\"C\"\n",
        "  elif 60<=n<70:\n",
        "    grade=\"D\"\n",
        "  else:\n",
        "    grade=\"F\"\n",
        "  return print(\"{0}점은 {1}입니다.\".format(n, grade))\n",
        "\n",
        "n=int(input(\"당신의 점수는? \"))\n",
        "Grading(n)"
      ],
      "metadata": {
        "colab": {
          "base_uri": "https://localhost:8080/"
        },
        "id": "daMOyrjAP3DW",
        "outputId": "3f822bb1-fa95-4132-8077-5cb8b5bd9bc4"
      },
      "execution_count": null,
      "outputs": [
        {
          "output_type": "stream",
          "name": "stdout",
          "text": [
            "당신의 점수는? 75\n",
            "75점은 C입니다.\n"
          ]
        }
      ]
    },
    {
      "cell_type": "markdown",
      "source": [
        "4-8"
      ],
      "metadata": {
        "id": "rG69uWgfQzlM"
      }
    },
    {
      "cell_type": "code",
      "source": [
        "try:\n",
        "  number=int(input(\"자연수를 입력하세요 \"))\n",
        "  if number%2 == 0:\n",
        "    print(\"짝수\")\n",
        "  else:\n",
        "    print(\"홀수\")\n",
        "except ValueError: \n",
        "  print(\"자연수를 입력하시오\")"
      ],
      "metadata": {
        "colab": {
          "base_uri": "https://localhost:8080/"
        },
        "id": "MRg-8fKAQ0OT",
        "outputId": "e4ce36a6-ab85-4ebe-b35a-fdbd002e6cda"
      },
      "execution_count": null,
      "outputs": [
        {
          "output_type": "stream",
          "name": "stdout",
          "text": [
            "자연수를 입력하세요 17.5\n",
            "자연수를 입력하시오\n"
          ]
        }
      ]
    },
    {
      "cell_type": "markdown",
      "source": [
        "4-9"
      ],
      "metadata": {
        "id": "CBPgGsfxRxmc"
      }
    },
    {
      "cell_type": "code",
      "source": [
        "def check_prime(n):\n",
        "   if n==1:\n",
        "      print(\"1보다 큰수를 입력하시오\")\n",
        "   elif n==2:\n",
        "      print(\"소수입니다.\")\n",
        "   for i in range(2,n):\n",
        "    if n%i == 0 :\n",
        "      print(\"합성수입니다,\")\n",
        "      break\n",
        "    else :\n",
        "      print(\"소수입니다.\")\n",
        "      break\n",
        "\n",
        "check_prime(17)"
      ],
      "metadata": {
        "colab": {
          "base_uri": "https://localhost:8080/"
        },
        "id": "Z5hWWxQNRyRY",
        "outputId": "08031039-798d-417f-b627-54a3d502c92d"
      },
      "execution_count": null,
      "outputs": [
        {
          "output_type": "stream",
          "name": "stdout",
          "text": [
            "소수입니다.\n"
          ]
        }
      ]
    },
    {
      "cell_type": "markdown",
      "source": [
        "4-10"
      ],
      "metadata": {
        "id": "PSHAlayEThv1"
      }
    },
    {
      "cell_type": "code",
      "source": [
        "def factorization_prime(n):\n",
        "  prime_list=[]\n",
        "  for i in range(1,n+1):\n",
        "    if n%i==0:\n",
        "      prime_list.append(i)\n",
        "  return prime_list\n",
        "\n",
        "factorization_prime(17)"
      ],
      "metadata": {
        "colab": {
          "base_uri": "https://localhost:8080/"
        },
        "id": "lub_NYBoTiRt",
        "outputId": "dcd23f8e-c3e2-4d61-9a8e-afc18555c321"
      },
      "execution_count": null,
      "outputs": [
        {
          "output_type": "execute_result",
          "data": {
            "text/plain": [
              "[1, 17]"
            ]
          },
          "metadata": {},
          "execution_count": 2
        }
      ]
    },
    {
      "cell_type": "markdown",
      "source": [
        "4-11"
      ],
      "metadata": {
        "id": "2Rx_Lfc2zl9p"
      }
    },
    {
      "cell_type": "code",
      "source": [
        "def is_Uglynumber(x):\n",
        "  d=2\n",
        "  global uglylist\n",
        "  uglylist=[]\n",
        "  while d<= x:\n",
        "    if x%d == 0:\n",
        "      uglylist.append(d)\n",
        "      x=x/d\n",
        "    else :\n",
        "      d=d+1\n",
        "  for i in uglylist :\n",
        "    if i!=2 and i!=3 and i!=5:\n",
        "      return print(\"못난이수가 아닙니다.\")\n",
        "    else :\n",
        "      return print(\"못난이수입니다\")\n",
        "  if x==1 :\n",
        "      print(\"못난이 수입니다.\")\n",
        "\n",
        "is_Uglynumber(12)"
      ],
      "metadata": {
        "id": "bziEbCuvTkgo",
        "colab": {
          "base_uri": "https://localhost:8080/"
        },
        "outputId": "8d86d0d0-1265-4904-97c8-b414cdcc4db1"
      },
      "execution_count": 50,
      "outputs": [
        {
          "output_type": "stream",
          "name": "stdout",
          "text": [
            "못난이수입니다\n"
          ]
        }
      ]
    }
  ]
}