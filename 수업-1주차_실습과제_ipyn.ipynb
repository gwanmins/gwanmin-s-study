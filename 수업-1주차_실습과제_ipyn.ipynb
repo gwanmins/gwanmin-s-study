{
  "nbformat": 4,
  "nbformat_minor": 0,
  "metadata": {
    "colab": {
      "name": "1주차 실습과제.ipyn",
      "provenance": [],
      "collapsed_sections": [],
      "authorship_tag": "ABX9TyOB6FRx3J25A0XYr6uLzaTN",
      "include_colab_link": true
    },
    "kernelspec": {
      "name": "python3",
      "display_name": "Python 3"
    },
    "language_info": {
      "name": "python"
    }
  },
  "cells": [
    {
      "cell_type": "markdown",
      "metadata": {
        "id": "view-in-github",
        "colab_type": "text"
      },
      "source": [
        "<a href=\"https://colab.research.google.com/github/gwanmins/gwanmin-s-study/blob/main/1%EC%A3%BC%EC%B0%A8_%EC%8B%A4%EC%8A%B5%EA%B3%BC%EC%A0%9C_ipyn.ipynb\" target=\"_parent\"><img src=\"https://colab.research.google.com/assets/colab-badge.svg\" alt=\"Open In Colab\"/></a>"
      ]
    },
    {
      "cell_type": "markdown",
      "source": [
        "1-2"
      ],
      "metadata": {
        "id": "h1m0QOzV6EiG"
      }
    },
    {
      "cell_type": "code",
      "execution_count": null,
      "metadata": {
        "colab": {
          "base_uri": "https://localhost:8080/"
        },
        "id": "KlSoEtXi4bpk",
        "outputId": "e630d45e-96d8-41ab-ea68-7947a331f4d8"
      },
      "outputs": [
        {
          "output_type": "stream",
          "name": "stdout",
          "text": [
            "a+b의 값은 60\n"
          ]
        }
      ],
      "source": [
        "a=24\n",
        "b=36\n",
        "print(\"a+b의 값은\", a+b)"
      ]
    },
    {
      "cell_type": "markdown",
      "source": [
        "1-3"
      ],
      "metadata": {
        "id": "7anVK4me6dRq"
      }
    },
    {
      "cell_type": "code",
      "source": [
        "number=int(input(\"자연수를 입력하세요\"))\n",
        "if number%2 == 0 :\n",
        "  print(\"짝수입니다\")\n",
        "else :\n",
        "  print(\"홀수입니다\")"
      ],
      "metadata": {
        "colab": {
          "base_uri": "https://localhost:8080/"
        },
        "id": "qOVbBnDZ6EC8",
        "outputId": "8f7037c5-bfaf-459e-e7d4-05c8f34c15a3"
      },
      "execution_count": null,
      "outputs": [
        {
          "output_type": "stream",
          "name": "stdout",
          "text": [
            "자연수를 입력하세요45671\n",
            "홀수입니다\n"
          ]
        }
      ]
    },
    {
      "cell_type": "markdown",
      "source": [
        "1-4"
      ],
      "metadata": {
        "id": "5uApC4aV6c5j"
      }
    },
    {
      "cell_type": "code",
      "source": [
        "number=input(\"주민등록번호는? (-포함하십쇼) :\")\n",
        "birthday=number[:6]\n",
        "elsenumber=number[7:]\n",
        "print(\"연월일 부분은\", birthday,\"입니다. \", end='')\n",
        "print(\"뒤의 숫자 부분은\", elsenumber,\"입니다.\")"
      ],
      "metadata": {
        "colab": {
          "base_uri": "https://localhost:8080/"
        },
        "id": "4r7sYokV7OdQ",
        "outputId": "15c3e84c-77d4-4d47-bef5-41660f9b7933"
      },
      "execution_count": 1,
      "outputs": [
        {
          "output_type": "stream",
          "name": "stdout",
          "text": [
            "주민등록번호는? (-포함하십쇼) :881120-1068234\n",
            "연월일 부분은 881120 입니다. 뒤의 숫자 부분은 1068234 입니다.\n"
          ]
        }
      ]
    },
    {
      "cell_type": "markdown",
      "source": [
        "1-5"
      ],
      "metadata": {
        "id": "Ko2pRsgT89S4"
      }
    },
    {
      "cell_type": "code",
      "source": [
        "number=input(\"pin = \")\n",
        "sex=number[7]\n",
        "print(\"성별 숫자는\", sex,\"입니다.\")\n"
      ],
      "metadata": {
        "colab": {
          "base_uri": "https://localhost:8080/"
        },
        "id": "0WrSIUOd8-5y",
        "outputId": "ff45e5bd-2fcf-4d49-8bf9-a7a6f5a09116"
      },
      "execution_count": null,
      "outputs": [
        {
          "output_type": "stream",
          "name": "stdout",
          "text": [
            "pin = 881120-1068234\n",
            "성별 숫자는 1 입니다.\n"
          ]
        }
      ]
    },
    {
      "cell_type": "markdown",
      "source": [
        "1-6(1)"
      ],
      "metadata": {
        "id": "odN-LfPAD6Ra"
      }
    },
    {
      "cell_type": "code",
      "source": [
        "text=\"a:b:c:d\"\n",
        "text.replace(\":\",\"#\")"
      ],
      "metadata": {
        "colab": {
          "base_uri": "https://localhost:8080/",
          "height": 35
        },
        "id": "FwDmmGzjD8AZ",
        "outputId": "5557c737-ca41-4654-a2fa-0fb4db34c285"
      },
      "execution_count": null,
      "outputs": [
        {
          "output_type": "execute_result",
          "data": {
            "application/vnd.google.colaboratory.intrinsic+json": {
              "type": "string"
            },
            "text/plain": [
              "'a#b#c#d'"
            ]
          },
          "metadata": {},
          "execution_count": 53
        }
      ]
    },
    {
      "cell_type": "markdown",
      "source": [
        "1-6(2)"
      ],
      "metadata": {
        "id": "xIm7G-4YGqCP"
      }
    },
    {
      "cell_type": "code",
      "source": [
        "text=\"a:b:c:d\"\n",
        "list=text.split(\":\")\n",
        "\"#\".join(list)"
      ],
      "metadata": {
        "colab": {
          "base_uri": "https://localhost:8080/",
          "height": 35
        },
        "id": "3My1tZzoHAc3",
        "outputId": "6251e24c-bfb8-4d7c-c32d-7889ba18bc66"
      },
      "execution_count": null,
      "outputs": [
        {
          "output_type": "execute_result",
          "data": {
            "application/vnd.google.colaboratory.intrinsic+json": {
              "type": "string"
            },
            "text/plain": [
              "'a#b#c#d'"
            ]
          },
          "metadata": {},
          "execution_count": 56
        }
      ]
    }
  ]
}
