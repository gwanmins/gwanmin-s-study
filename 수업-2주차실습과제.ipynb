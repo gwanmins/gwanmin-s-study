{
  "nbformat": 4,
  "nbformat_minor": 0,
  "metadata": {
    "colab": {
      "name": "2주차실습과제.ipynb",
      "provenance": [],
      "collapsed_sections": [],
      "authorship_tag": "ABX9TyOiWJv+XPUAYjsGPSV9mu8t",
      "include_colab_link": true
    },
    "kernelspec": {
      "name": "python3",
      "display_name": "Python 3"
    },
    "language_info": {
      "name": "python"
    }
  },
  "cells": [
    {
      "cell_type": "markdown",
      "metadata": {
        "id": "view-in-github",
        "colab_type": "text"
      },
      "source": [
        "<a href=\"https://colab.research.google.com/github/gwanmins/gwanmin-s-study/blob/main/2%EC%A3%BC%EC%B0%A8%EC%8B%A4%EC%8A%B5%EA%B3%BC%EC%A0%9C.ipynb\" target=\"_parent\"><img src=\"https://colab.research.google.com/assets/colab-badge.svg\" alt=\"Open In Colab\"/></a>"
      ]
    },
    {
      "cell_type": "markdown",
      "source": [
        "2-1"
      ],
      "metadata": {
        "id": "RpiZuVitvsSr"
      }
    },
    {
      "cell_type": "code",
      "execution_count": null,
      "metadata": {
        "colab": {
          "base_uri": "https://localhost:8080/"
        },
        "id": "oI3A6tmRPzgk",
        "outputId": "b440473e-a9cd-408c-939a-4f05e2298e6a"
      },
      "outputs": [
        {
          "output_type": "stream",
          "name": "stdout",
          "text": [
            "몇 번을 섭씨로 바꿀까요? 0\n",
            "0번 화씨는 섭씨로 바꾸면 21.11111111111111입니다.\n"
          ]
        }
      ],
      "source": [
        "fah=[70,55,45,40,37,32,20,18,20]\n",
        "ind=int(input(\"몇 번을 섭씨로 바꿀까요? \"))\n",
        "celsius=(fah[ind]-32)*(5/9)\n",
        "print(\"{0}번 화씨는 섭씨로 바꾸면 {1}입니다.\".format(ind, celsius))"
      ]
    },
    {
      "cell_type": "markdown",
      "source": [
        "2-2"
      ],
      "metadata": {
        "id": "jSweg8Z-vuQ8"
      }
    },
    {
      "cell_type": "code",
      "source": [
        "list=['Life', 'is', 'too', 'short']\n",
        "\" \".join(list)"
      ],
      "metadata": {
        "colab": {
          "base_uri": "https://localhost:8080/",
          "height": 36
        },
        "id": "nEWHKJV8vu-L",
        "outputId": "74f6b360-e11d-410a-c7a8-9e72c4e351f2"
      },
      "execution_count": null,
      "outputs": [
        {
          "output_type": "execute_result",
          "data": {
            "application/vnd.google.colaboratory.intrinsic+json": {
              "type": "string"
            },
            "text/plain": [
              "'Life is too short'"
            ]
          },
          "metadata": {},
          "execution_count": 45
        }
      ]
    },
    {
      "cell_type": "markdown",
      "source": [
        "2-3(1)"
      ],
      "metadata": {
        "id": "M39FjBNtwIYL"
      }
    },
    {
      "cell_type": "code",
      "source": [
        "a=[1,3,5,4,2]\n",
        "a.sort()\n",
        "a.reverse()\n",
        "print(a)"
      ],
      "metadata": {
        "colab": {
          "base_uri": "https://localhost:8080/"
        },
        "id": "_KUH5O4FwXja",
        "outputId": "4a002b09-a20f-49f6-9d5b-a39880d47d73"
      },
      "execution_count": null,
      "outputs": [
        {
          "output_type": "stream",
          "name": "stdout",
          "text": [
            "[5, 4, 3, 2, 1]\n"
          ]
        }
      ]
    },
    {
      "cell_type": "markdown",
      "source": [
        "2-3(2)"
      ],
      "metadata": {
        "id": "sFfTj9oZwz3T"
      }
    },
    {
      "cell_type": "code",
      "source": [
        "a=[1,3,5,4,2]\n",
        "a.sort(reverse=True) #원래 sort의 형태는 a.sort(reverse=False)\n",
        "print(a)"
      ],
      "metadata": {
        "colab": {
          "base_uri": "https://localhost:8080/"
        },
        "id": "FY9vGEaswJXm",
        "outputId": "11512aa7-d690-4b8f-b82d-09632a429f24"
      },
      "execution_count": null,
      "outputs": [
        {
          "output_type": "stream",
          "name": "stdout",
          "text": [
            "[5, 4, 3, 2, 1]\n"
          ]
        }
      ]
    },
    {
      "cell_type": "markdown",
      "source": [
        "2-4"
      ],
      "metadata": {
        "id": "Tx1shkmExDEM"
      }
    },
    {
      "cell_type": "code",
      "source": [
        "a=(1,2,3)\n",
        "b=list(a)\n",
        "b.append(4)\n",
        "tuple(b)\n"
      ],
      "metadata": {
        "colab": {
          "base_uri": "https://localhost:8080/"
        },
        "id": "LDV-3Zh7xF2D",
        "outputId": "9f8173d0-2d1a-4ba1-8a69-3171a3809b56"
      },
      "execution_count": 22,
      "outputs": [
        {
          "output_type": "execute_result",
          "data": {
            "text/plain": [
              "(1, 2, 3, 4)"
            ]
          },
          "metadata": {},
          "execution_count": 22
        }
      ]
    },
    {
      "cell_type": "markdown",
      "source": [
        "2-5"
      ],
      "metadata": {
        "id": "IH-HXyjiyqJE"
      }
    },
    {
      "cell_type": "code",
      "source": [
        "dic={\"name\":\"홍길동\", \"birth\":\"1128\", \"age\":\"30\"}\n",
        "print(dic)"
      ],
      "metadata": {
        "colab": {
          "base_uri": "https://localhost:8080/"
        },
        "id": "xSG_S8Mpwk8D",
        "outputId": "44517207-b6fc-49d3-89ca-74747bd4a80a"
      },
      "execution_count": null,
      "outputs": [
        {
          "output_type": "stream",
          "name": "stdout",
          "text": [
            "{'name': '홍길동', 'birth': '1128', 'age': '30'}\n"
          ]
        }
      ]
    },
    {
      "cell_type": "markdown",
      "source": [
        "2-6"
      ],
      "metadata": {
        "id": "4sw9Y2gHzUHk"
      }
    },
    {
      "cell_type": "code",
      "source": [
        "a={'A':90, 'B':80}\n",
        "a.get('C', 70)"
      ],
      "metadata": {
        "colab": {
          "base_uri": "https://localhost:8080/"
        },
        "id": "hpDmNS-7wVfJ",
        "outputId": "b9d0376e-3dc4-44a2-898b-3dd1bb059f00"
      },
      "execution_count": null,
      "outputs": [
        {
          "output_type": "execute_result",
          "data": {
            "text/plain": [
              "70"
            ]
          },
          "metadata": {},
          "execution_count": 73
        }
      ]
    },
    {
      "cell_type": "markdown",
      "source": [
        "2-7"
      ],
      "metadata": {
        "id": "wx8r78qpzvz0"
      }
    },
    {
      "cell_type": "code",
      "source": [
        "a=[1,1,1,2,2,3,3,3,4,4,5]\n",
        "set(a)"
      ],
      "metadata": {
        "colab": {
          "base_uri": "https://localhost:8080/"
        },
        "id": "Bz-d5E1KzwyE",
        "outputId": "026e9ef8-fc3e-4e34-b32e-8e6e1bf73f95"
      },
      "execution_count": null,
      "outputs": [
        {
          "output_type": "execute_result",
          "data": {
            "text/plain": [
              "{1, 2, 3, 4, 5}"
            ]
          },
          "metadata": {},
          "execution_count": 74
        }
      ]
    },
    {
      "cell_type": "markdown",
      "source": [
        "2-8"
      ],
      "metadata": {
        "id": "TS8TFquRTgWX"
      }
    },
    {
      "cell_type": "code",
      "source": [
        "inventory={'메로나':[300,20], '비비빅':[400,3], '죠스바':[250,100]}\n",
        "inventory.items()"
      ],
      "metadata": {
        "colab": {
          "base_uri": "https://localhost:8080/"
        },
        "id": "YfzPN0sqThL2",
        "outputId": "c2b892fe-df29-44aa-db69-688833cfe2b2"
      },
      "execution_count": 2,
      "outputs": [
        {
          "output_type": "execute_result",
          "data": {
            "text/plain": [
              "dict_items([('메로나', [300, 20]), ('비비빅', [400, 3]), ('죠스바', [250, 100])])"
            ]
          },
          "metadata": {},
          "execution_count": 2
        }
      ]
    },
    {
      "cell_type": "markdown",
      "source": [
        "2-9"
      ],
      "metadata": {
        "id": "lmI6X3NFUJJ1"
      }
    },
    {
      "cell_type": "code",
      "source": [
        "inventory={'메로나':[300,20], '비비빅':[400,3], '죠스바':[250,100]}\n",
        "print(inventory['메로나'][0],\"원\") # 1번\n",
        "print(inventory['메로나'][1],\"개\") # 2번\n",
        "inventory['월드콘']=([500,7]) # 3번\n",
        "print(inventory)"
      ],
      "metadata": {
        "colab": {
          "base_uri": "https://localhost:8080/"
        },
        "id": "bZGitwbeUQ41",
        "outputId": "8f0ef32d-a4d9-4dbe-b70c-633d113342a6"
      },
      "execution_count": 6,
      "outputs": [
        {
          "output_type": "stream",
          "name": "stdout",
          "text": [
            "300 원\n",
            "20 개\n",
            "{'메로나': [300, 20], '비비빅': [400, 3], '죠스바': [250, 100], '월드콘': [500, 7]}\n"
          ]
        }
      ]
    },
    {
      "cell_type": "markdown",
      "source": [
        "2-10"
      ],
      "metadata": {
        "id": "--qzIRDaVKjG"
      }
    },
    {
      "cell_type": "code",
      "source": [
        "my_list=[\"A\", \"b\", \"c\", \"D\"]\n",
        "for i in my_list:\n",
        "  if i.isupper() == True:\n",
        "    print(i)\n"
      ],
      "metadata": {
        "colab": {
          "base_uri": "https://localhost:8080/"
        },
        "id": "4GXvzjDwUQ9d",
        "outputId": "d32970aa-e9a1-441e-fbc2-9da31b95b408"
      },
      "execution_count": 9,
      "outputs": [
        {
          "output_type": "stream",
          "name": "stdout",
          "text": [
            "A\n",
            "D\n"
          ]
        }
      ]
    },
    {
      "cell_type": "markdown",
      "source": [
        "2-11"
      ],
      "metadata": {
        "id": "lu4jq0-vV0DO"
      }
    },
    {
      "cell_type": "code",
      "source": [
        "my_list=[\"A\", \"b\", \"c\", \"D\"]\n",
        "second_list=[]\n",
        "for i in my_list:\n",
        "  if i.isupper() :\n",
        "    print(i.lower(),end='')\n",
        "  else :\n",
        "    print(i.upper(),end='')"
      ],
      "metadata": {
        "colab": {
          "base_uri": "https://localhost:8080/"
        },
        "id": "FaCN3OPCV1CG",
        "outputId": "900ea1fb-62ec-422a-bc88-f65ad760a4f8"
      },
      "execution_count": 20,
      "outputs": [
        {
          "output_type": "stream",
          "name": "stdout",
          "text": [
            "aBCd"
          ]
        }
      ]
    }
  ]
}
